{
 "cells": [
  {
   "cell_type": "code",
   "execution_count": 11,
   "id": "98839817",
   "metadata": {},
   "outputs": [
    {
     "name": "stdout",
     "output_type": "stream",
     "text": [
      "(123389, 3)\n",
      "123389\n"
     ]
    }
   ],
   "source": [
    "import numpy as np\n",
    "import struct\n",
    "import sys\n",
    "import open3d as o3d\n",
    "\n",
    "\n",
    "def bin_to_pcd(binFileName):\n",
    "    size_float = 4\n",
    "    list_pcd = []\n",
    "    with open(binFileName, \"rb\") as f:\n",
    "        byte = f.read(size_float * 4)\n",
    "        while byte:\n",
    "            x, y, z, intensity = struct.unpack(\"ffff\", byte)\n",
    "            list_pcd.append([x, y, z])\n",
    "            byte = f.read(size_float * 4)\n",
    "    np_pcd = np.asarray(list_pcd)\n",
    "    pcd = o3d.geometry.PointCloud()\n",
    "    pcd.points = o3d.utility.Vector3dVector(np_pcd)\n",
    "    return pcd\n",
    "\n",
    "\n",
    "path = '/home/parvez/SemData/sequences/08/velodyne/000000.bin'\n",
    "pcd = bin_to_pcd(path)\n",
    "pcd = np.asarray(pcd.points)\n",
    "\n",
    "print(pcd.shape)\n",
    "\n",
    "path = '/home/parvez/SemData/sequences/08/labels/000000.label'\n",
    "a = np.fromfile(path, dtype=np.uint32)\n",
    "print(len(a))\n",
    "\n",
    "    \n",
    "\n"
   ]
  },
  {
   "cell_type": "code",
   "execution_count": 9,
   "id": "9b8a4d7f",
   "metadata": {},
   "outputs": [],
   "source": [
    "import open3d as o3d\n",
    "\n",
    "geom=o3d.geometry.PointCloud()\n",
    "geom.points=o3d.utility.Vector3dVector(pcd)\n",
    "\n",
    "o3d.visualization.draw_geometries([geom])"
   ]
  },
  {
   "cell_type": "code",
   "execution_count": null,
   "id": "02dd3881",
   "metadata": {},
   "outputs": [],
   "source": []
  }
 ],
 "metadata": {
  "kernelspec": {
   "display_name": "Python 3 (ipykernel)",
   "language": "python",
   "name": "python3"
  },
  "language_info": {
   "codemirror_mode": {
    "name": "ipython",
    "version": 3
   },
   "file_extension": ".py",
   "mimetype": "text/x-python",
   "name": "python",
   "nbconvert_exporter": "python",
   "pygments_lexer": "ipython3",
   "version": "3.8.10"
  }
 },
 "nbformat": 4,
 "nbformat_minor": 5
}
